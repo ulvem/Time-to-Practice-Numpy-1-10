{
  "nbformat": 4,
  "nbformat_minor": 0,
  "metadata": {
    "colab": {
      "provenance": [],
      "include_colab_link": true
    },
    "kernelspec": {
      "name": "python3",
      "display_name": "Python 3"
    },
    "language_info": {
      "name": "python"
    }
  },
  "cells": [
    {
      "cell_type": "markdown",
      "metadata": {
        "id": "view-in-github",
        "colab_type": "text"
      },
      "source": [
        "<a href=\"https://colab.research.google.com/github/ulvem/Time-to-Practice-Numpy-1-10/blob/main/Copy_of_Time_to_Practice_Numpy_0.ipynb\" target=\"_parent\"><img src=\"https://colab.research.google.com/assets/colab-badge.svg\" alt=\"Open In Colab\"/></a>"
      ]
    },
    {
      "cell_type": "markdown",
      "source": [
        "<img height=\"180px\" src=\"https://drive.google.com/uc?export=view&id=141XOz6N4nk8Ru1sAl7vOsAToCLrSFCAX\" alt=\"SDA logo\" align=\"left\" hspace=\"30px\" vspace=\"50px\"/>\n",
        "\n",
        "# Welcome to your next notebook with SDA!\n",
        "\n",
        "During the classes we will mostly use [Google Colaboratory](https://colab.research.google.com/?hl=en) which is a free Jupyter notebook environment that requires no setup and runs entirely in the cloud.\n",
        "\n",
        "However, for bigger projects, especially involving Deep Learning and/or big data reading, it might be a better choice to setup Jupyter Notebook or Jupyter Lab on your computer. Also, it is worth noticing that there is a great number of useful extensions (see [nbextensions](https://jupyter-contrib-nbextensions.readthedocs.io/en/latest/index.html) and [jupyter-labextension](https://jupyterlab.readthedocs.io/en/stable/user/extensions.html)) not available for Colab users."
      ],
      "metadata": {
        "id": "-XWt3nPFhENg"
      }
    },
    {
      "cell_type": "markdown",
      "source": [
        "<img src=\"https://drive.google.com/uc?export=view&id=1UO2urRciECzoKE_vHy4RMGfFbkOWOGlW\" alt=\"SDA logo\" align=\"left\" width=\"100px\" hspace=\"10px\" vspace=\"10px\"/>\n",
        "<br>\n",
        "\n",
        "# TASKS"
      ],
      "metadata": {
        "id": "_pi_0qQeiZ-0"
      }
    },
    {
      "cell_type": "markdown",
      "source": [
        "<img src=\"https://drive.google.com/uc?export=view&id=141XOz6N4nk8Ru1sAl7vOsAToCLrSFCAX\" alt=\"SDA logo\" width=\"150\" align='right'/>\n",
        "<br>\n",
        "\n",
        "## Linear Algebra"
      ],
      "metadata": {
        "id": "rzZ3BUSfijKe"
      }
    },
    {
      "cell_type": "code",
      "source": [
        "import numpy as np"
      ],
      "metadata": {
        "id": "-hcGeCjAOuwc"
      },
      "execution_count": 2,
      "outputs": []
    },
    {
      "cell_type": "markdown",
      "source": [
        "### **<font color='#306998'>TASK </font><font color='#ffd33b'>1.1</font>**\n",
        "\n",
        "1. Create a NumPy array with consecutive values from 1 to 9. Display and then invert this array (first element becomes last, etc.).\n",
        "1. Do the same for the numbers between 7 and 19 (including these numbers)."
      ],
      "metadata": {
        "id": "2SAWPPl8ipUl"
      }
    },
    {
      "cell_type": "code",
      "source": [
        "np.arange(10) # by default it starts from 0"
      ],
      "metadata": {
        "colab": {
          "base_uri": "https://localhost:8080/"
        },
        "id": "SHC88AYONiNM",
        "outputId": "88fec351-09ca-4e15-fda4-d2d6f09675c8"
      },
      "execution_count": 3,
      "outputs": [
        {
          "output_type": "execute_result",
          "data": {
            "text/plain": [
              "array([0, 1, 2, 3, 4, 5, 6, 7, 8, 9])"
            ]
          },
          "metadata": {},
          "execution_count": 3
        }
      ]
    },
    {
      "cell_type": "code",
      "source": [
        "np.arange(1, 10)[::-1] # start:stop:step"
      ],
      "metadata": {
        "colab": {
          "base_uri": "https://localhost:8080/"
        },
        "id": "B7TEIgvZLBPF",
        "outputId": "2df5fc05-b647-4dff-cbb6-8a89dec3fff5"
      },
      "execution_count": 4,
      "outputs": [
        {
          "output_type": "execute_result",
          "data": {
            "text/plain": [
              "array([9, 8, 7, 6, 5, 4, 3, 2, 1])"
            ]
          },
          "metadata": {},
          "execution_count": 4
        }
      ]
    },
    {
      "cell_type": "code",
      "source": [
        "np.arange(7, 20)[::-1] # start:stop:step"
      ],
      "metadata": {
        "colab": {
          "base_uri": "https://localhost:8080/"
        },
        "id": "IfuZNFc6NY0Y",
        "outputId": "ad81e96f-bae9-4462-ca91-623293183ef7"
      },
      "execution_count": 5,
      "outputs": [
        {
          "output_type": "execute_result",
          "data": {
            "text/plain": [
              "array([19, 18, 17, 16, 15, 14, 13, 12, 11, 10,  9,  8,  7])"
            ]
          },
          "metadata": {},
          "execution_count": 5
        }
      ]
    },
    {
      "cell_type": "code",
      "source": [
        "np.arange(19, 6, -1)  # start:stop:step"
      ],
      "metadata": {
        "colab": {
          "base_uri": "https://localhost:8080/"
        },
        "id": "lQmmPosHNyND",
        "outputId": "7c6ef3a4-5385-4153-c014-3ddfdc851458"
      },
      "execution_count": 6,
      "outputs": [
        {
          "output_type": "execute_result",
          "data": {
            "text/plain": [
              "array([19, 18, 17, 16, 15, 14, 13, 12, 11, 10,  9,  8,  7])"
            ]
          },
          "metadata": {},
          "execution_count": 6
        }
      ]
    },
    {
      "cell_type": "code",
      "source": [
        "np.arange(14, 30, 2)"
      ],
      "metadata": {
        "colab": {
          "base_uri": "https://localhost:8080/"
        },
        "id": "Q-ZYDxKqN8K4",
        "outputId": "eabd6605-bac9-4b06-da86-ad5662481836"
      },
      "execution_count": 7,
      "outputs": [
        {
          "output_type": "execute_result",
          "data": {
            "text/plain": [
              "array([14, 16, 18, 20, 22, 24, 26, 28])"
            ]
          },
          "metadata": {},
          "execution_count": 7
        }
      ]
    },
    {
      "cell_type": "code",
      "source": [
        "import numpy as np\n",
        "\n",
        "# x = np.empty([4])\n",
        "# print(np.empty(5))\n",
        "\n",
        "players_height = np.array([\n",
        "    1.72, 1.65, 1.88, 1.91,\n",
        "    1.82, 1.76, 1.80\n",
        "])\n",
        "\n",
        "tall_players_ids = np.where(\n",
        "    players_height > 1.8\n",
        ")[0]\n",
        "\n",
        "tall_players_ids"
      ],
      "metadata": {
        "id": "js9RKj52VT4p",
        "colab": {
          "base_uri": "https://localhost:8080/"
        },
        "outputId": "d2ce10d4-d1f1-47e8-ffc7-b048bf257db6"
      },
      "execution_count": 8,
      "outputs": [
        {
          "output_type": "execute_result",
          "data": {
            "text/plain": [
              "array([2, 3, 4])"
            ]
          },
          "metadata": {},
          "execution_count": 8
        }
      ]
    },
    {
      "cell_type": "code",
      "source": [
        "np.where(players_height > 1.8, players_height, 0)"
      ],
      "metadata": {
        "colab": {
          "base_uri": "https://localhost:8080/"
        },
        "id": "lk9mkppR7aB1",
        "outputId": "df431b41-ff41-4313-c006-57428df8a86b"
      },
      "execution_count": 9,
      "outputs": [
        {
          "output_type": "execute_result",
          "data": {
            "text/plain": [
              "array([0.  , 0.  , 1.88, 1.91, 1.82, 0.  , 0.  ])"
            ]
          },
          "metadata": {},
          "execution_count": 9
        }
      ]
    },
    {
      "cell_type": "code",
      "source": [
        "players_height[players_height > 1.8]"
      ],
      "metadata": {
        "colab": {
          "base_uri": "https://localhost:8080/"
        },
        "id": "fDqiv39o5SNc",
        "outputId": "bbd657f8-9b09-44b1-9cf1-bc0ff3c5c3b9"
      },
      "execution_count": 10,
      "outputs": [
        {
          "output_type": "execute_result",
          "data": {
            "text/plain": [
              "array([1.88, 1.91, 1.82])"
            ]
          },
          "metadata": {},
          "execution_count": 10
        }
      ]
    },
    {
      "cell_type": "code",
      "source": [
        "A = np.array([\n",
        "    [3,7,4],\n",
        "    [9,3,5]\n",
        "])\n",
        "\n",
        "A"
      ],
      "metadata": {
        "colab": {
          "base_uri": "https://localhost:8080/"
        },
        "id": "ym328XW46-vp",
        "outputId": "99c65e21-5f0a-46f1-c847-627525d44951"
      },
      "execution_count": 11,
      "outputs": [
        {
          "output_type": "execute_result",
          "data": {
            "text/plain": [
              "array([[3, 7, 4],\n",
              "       [9, 3, 5]])"
            ]
          },
          "metadata": {},
          "execution_count": 11
        }
      ]
    },
    {
      "cell_type": "code",
      "source": [
        "_B = np.array([[3,0], [3,7], [9,3]])\n",
        "\n",
        "B = np.array([\n",
        "    [3,0],\n",
        "    [3,7],\n",
        "    [9,3]\n",
        "])"
      ],
      "metadata": {
        "id": "cLOXbLfk9LyG"
      },
      "execution_count": 12,
      "outputs": []
    },
    {
      "cell_type": "code",
      "source": [
        "# A == B  # Value Error\n",
        "\n",
        "(_B == B).all()"
      ],
      "metadata": {
        "colab": {
          "base_uri": "https://localhost:8080/"
        },
        "id": "E-PRP_M-9UJC",
        "outputId": "3ac152c4-05ff-4436-8b5d-537c451ba94a"
      },
      "execution_count": 13,
      "outputs": [
        {
          "output_type": "execute_result",
          "data": {
            "text/plain": [
              "True"
            ]
          },
          "metadata": {},
          "execution_count": 13
        }
      ]
    },
    {
      "cell_type": "code",
      "source": [
        "c = np.array(5)\n",
        "c.ndim"
      ],
      "metadata": {
        "colab": {
          "base_uri": "https://localhost:8080/"
        },
        "id": "L_9XfkzS-uQ1",
        "outputId": "0bb410c7-2eb8-4926-f2ec-6f39ae71675d"
      },
      "execution_count": 14,
      "outputs": [
        {
          "output_type": "execute_result",
          "data": {
            "text/plain": [
              "0"
            ]
          },
          "metadata": {},
          "execution_count": 14
        }
      ]
    },
    {
      "cell_type": "code",
      "source": [
        "players_height.ndim"
      ],
      "metadata": {
        "colab": {
          "base_uri": "https://localhost:8080/"
        },
        "id": "O503fvQO-ZLs",
        "outputId": "ecb68491-b232-4469-b6f8-eb6c0c34cc06"
      },
      "execution_count": 15,
      "outputs": [
        {
          "output_type": "execute_result",
          "data": {
            "text/plain": [
              "1"
            ]
          },
          "metadata": {},
          "execution_count": 15
        }
      ]
    },
    {
      "cell_type": "code",
      "source": [
        "B.shape, B.ndim"
      ],
      "metadata": {
        "colab": {
          "base_uri": "https://localhost:8080/"
        },
        "id": "1zpcNS7r-Ngl",
        "outputId": "fe2d64f0-2a02-4b75-f69f-d6b7ff064ace"
      },
      "execution_count": 16,
      "outputs": [
        {
          "output_type": "execute_result",
          "data": {
            "text/plain": [
              "((3, 2), 2)"
            ]
          },
          "metadata": {},
          "execution_count": 16
        }
      ]
    },
    {
      "cell_type": "code",
      "source": [
        "# tensor\n",
        "C = np.array([[[3,0], [3,7], [9,3]], [[3,0], [3,7], [9,3]]])\n",
        "C.ndim"
      ],
      "metadata": {
        "colab": {
          "base_uri": "https://localhost:8080/"
        },
        "id": "ZV5e0dL3-Szy",
        "outputId": "f6daa1b9-c9ec-437b-82bc-a403da83a78a"
      },
      "execution_count": 17,
      "outputs": [
        {
          "output_type": "execute_result",
          "data": {
            "text/plain": [
              "3"
            ]
          },
          "metadata": {},
          "execution_count": 17
        }
      ]
    },
    {
      "cell_type": "code",
      "source": [
        "np.arange(1,25).reshape(6, 4)"
      ],
      "metadata": {
        "colab": {
          "base_uri": "https://localhost:8080/"
        },
        "id": "A8IDtMv4_nc7",
        "outputId": "50963fd0-95a6-489b-c015-262f5b055adb"
      },
      "execution_count": 18,
      "outputs": [
        {
          "output_type": "execute_result",
          "data": {
            "text/plain": [
              "array([[ 1,  2,  3,  4],\n",
              "       [ 5,  6,  7,  8],\n",
              "       [ 9, 10, 11, 12],\n",
              "       [13, 14, 15, 16],\n",
              "       [17, 18, 19, 20],\n",
              "       [21, 22, 23, 24]])"
            ]
          },
          "metadata": {},
          "execution_count": 18
        }
      ]
    },
    {
      "cell_type": "markdown",
      "source": [
        "Dla poszczególnych działań matematycznych możemy wprowadzić element neutralny:\n",
        "* $∀ a ∈\\mathbb{R}  a + 0 = 0 + a = a $\n",
        "* $∀ a ∈\\mathbb{R}  a \\cdot 1 = 1 \\cdot a = a $"
      ],
      "metadata": {
        "id": "-zT0OlHMAPLu"
      }
    },
    {
      "cell_type": "code",
      "source": [
        "np.eye(5)  # identity element"
      ],
      "metadata": {
        "colab": {
          "base_uri": "https://localhost:8080/"
        },
        "id": "u_8w_IT-_6mg",
        "outputId": "e2e29832-3465-4cf4-d1d6-f687fa4037c5"
      },
      "execution_count": 19,
      "outputs": [
        {
          "output_type": "execute_result",
          "data": {
            "text/plain": [
              "array([[1., 0., 0., 0., 0.],\n",
              "       [0., 1., 0., 0., 0.],\n",
              "       [0., 0., 1., 0., 0.],\n",
              "       [0., 0., 0., 1., 0.],\n",
              "       [0., 0., 0., 0., 1.]])"
            ]
          },
          "metadata": {},
          "execution_count": 19
        }
      ]
    },
    {
      "cell_type": "code",
      "source": [
        "A = np.array([\n",
        "    np.arange(1, 5),\n",
        "    np.arange(4, 0, -1)\n",
        "])\n",
        "\n",
        "A"
      ],
      "metadata": {
        "colab": {
          "base_uri": "https://localhost:8080/"
        },
        "id": "HU4fxiGHA9Rx",
        "outputId": "ddaeecb8-d3ba-43c4-ab93-610a293d9727"
      },
      "execution_count": 20,
      "outputs": [
        {
          "output_type": "execute_result",
          "data": {
            "text/plain": [
              "array([[1, 2, 3, 4],\n",
              "       [4, 3, 2, 1]])"
            ]
          },
          "metadata": {},
          "execution_count": 20
        }
      ]
    },
    {
      "cell_type": "code",
      "source": [
        "A[0, 1], A[1, 0]#, A[2, 3]  # IndexError"
      ],
      "metadata": {
        "colab": {
          "base_uri": "https://localhost:8080/"
        },
        "id": "O54Mddk_Bhpx",
        "outputId": "9ae088fe-fb1b-49df-fef3-d71434d65875"
      },
      "execution_count": 21,
      "outputs": [
        {
          "output_type": "execute_result",
          "data": {
            "text/plain": [
              "(2, 4)"
            ]
          },
          "metadata": {},
          "execution_count": 21
        }
      ]
    },
    {
      "cell_type": "code",
      "source": [
        "A[0, :]  # A[0] # equivalent"
      ],
      "metadata": {
        "colab": {
          "base_uri": "https://localhost:8080/"
        },
        "id": "ZT0TjeAJB9O9",
        "outputId": "9d7ea319-f959-4bb1-85cf-454b59421f93"
      },
      "execution_count": 22,
      "outputs": [
        {
          "output_type": "execute_result",
          "data": {
            "text/plain": [
              "array([1, 2, 3, 4])"
            ]
          },
          "metadata": {},
          "execution_count": 22
        }
      ]
    },
    {
      "cell_type": "code",
      "source": [
        "A[:, :2]"
      ],
      "metadata": {
        "colab": {
          "base_uri": "https://localhost:8080/"
        },
        "id": "HyPddm5JCLwF",
        "outputId": "2f0bcdaf-ac45-413b-ae0e-613a0d291ad6"
      },
      "execution_count": 23,
      "outputs": [
        {
          "output_type": "execute_result",
          "data": {
            "text/plain": [
              "array([[1, 2],\n",
              "       [4, 3]])"
            ]
          },
          "metadata": {},
          "execution_count": 23
        }
      ]
    },
    {
      "cell_type": "code",
      "source": [
        "A[0, ::2] # start:stop:step"
      ],
      "metadata": {
        "colab": {
          "base_uri": "https://localhost:8080/"
        },
        "id": "i7vT5AsVCThe",
        "outputId": "f8a4ec60-694a-4872-9615-062dfb201e8f"
      },
      "execution_count": 24,
      "outputs": [
        {
          "output_type": "execute_result",
          "data": {
            "text/plain": [
              "array([1, 3])"
            ]
          },
          "metadata": {},
          "execution_count": 24
        }
      ]
    },
    {
      "cell_type": "code",
      "source": [
        "A = np.array([[3, 4, 5], [1, 2, 3], [4, 5, 6]])\n",
        "B = np.array([[-2, 5, 1], [7, 0, 2], [-1, 0, 5]])"
      ],
      "metadata": {
        "id": "4pvOrCdAEWxc"
      },
      "execution_count": 28,
      "outputs": []
    },
    {
      "cell_type": "code",
      "source": [
        "A.sum(axis=0)"
      ],
      "metadata": {
        "colab": {
          "base_uri": "https://localhost:8080/"
        },
        "id": "BH2slhnNEXtX",
        "outputId": "5c09b6d8-bcf6-4b81-dff7-68e1187dac7e"
      },
      "execution_count": 25,
      "outputs": [
        {
          "output_type": "execute_result",
          "data": {
            "text/plain": [
              "array([5, 5, 5, 5])"
            ]
          },
          "metadata": {},
          "execution_count": 25
        }
      ]
    },
    {
      "cell_type": "code",
      "source": [
        "A + B\n",
        "# element-wise\n"
      ],
      "metadata": {
        "colab": {
          "base_uri": "https://localhost:8080/"
        },
        "id": "h7QdIGPcEl6g",
        "outputId": "bebb6904-6b69-4f54-8fce-99a18eda0236"
      },
      "execution_count": 29,
      "outputs": [
        {
          "output_type": "execute_result",
          "data": {
            "text/plain": [
              "array([[ 1,  9,  6],\n",
              "       [ 8,  2,  5],\n",
              "       [ 3,  5, 11]])"
            ]
          },
          "metadata": {},
          "execution_count": 29
        }
      ]
    },
    {
      "cell_type": "code",
      "source": [
        "A / B"
      ],
      "metadata": {
        "colab": {
          "base_uri": "https://localhost:8080/"
        },
        "id": "fx1Yu9w-E3dB",
        "outputId": "45045b1b-0205-4c8f-ed62-bd26e39cc9e0"
      },
      "execution_count": 30,
      "outputs": [
        {
          "output_type": "stream",
          "name": "stderr",
          "text": [
            "<ipython-input-30-db6a01120809>:1: RuntimeWarning: divide by zero encountered in divide\n",
            "  A / B\n"
          ]
        },
        {
          "output_type": "execute_result",
          "data": {
            "text/plain": [
              "array([[-1.5       ,  0.8       ,  5.        ],\n",
              "       [ 0.14285714,         inf,  1.5       ],\n",
              "       [-4.        ,         inf,  1.2       ]])"
            ]
          },
          "metadata": {},
          "execution_count": 30
        }
      ]
    },
    {
      "cell_type": "code",
      "source": [
        "A"
      ],
      "metadata": {
        "colab": {
          "base_uri": "https://localhost:8080/"
        },
        "id": "Jqd3Hor2FBxU",
        "outputId": "1a562761-7e1f-46f5-b132-bee7b1d0cbc5"
      },
      "execution_count": 31,
      "outputs": [
        {
          "output_type": "execute_result",
          "data": {
            "text/plain": [
              "array([[3, 4, 5],\n",
              "       [1, 2, 3],\n",
              "       [4, 5, 6]])"
            ]
          },
          "metadata": {},
          "execution_count": 31
        }
      ]
    },
    {
      "cell_type": "code",
      "source": [
        "-A"
      ],
      "metadata": {
        "colab": {
          "base_uri": "https://localhost:8080/"
        },
        "id": "a6LAxmToFCsx",
        "outputId": "e35bcfd2-53c0-4e0b-c84d-0ff5c3a30275"
      },
      "execution_count": 32,
      "outputs": [
        {
          "output_type": "execute_result",
          "data": {
            "text/plain": [
              "array([[-3, -4, -5],\n",
              "       [-1, -2, -3],\n",
              "       [-4, -5, -6]])"
            ]
          },
          "metadata": {},
          "execution_count": 32
        }
      ]
    },
    {
      "cell_type": "code",
      "source": [
        "2 * A"
      ],
      "metadata": {
        "colab": {
          "base_uri": "https://localhost:8080/"
        },
        "id": "X2k36PxSFFwF",
        "outputId": "37de1d02-4cc5-43e3-eb1b-673649770656"
      },
      "execution_count": 36,
      "outputs": [
        {
          "output_type": "execute_result",
          "data": {
            "text/plain": [
              "array([[ 6,  8, 10],\n",
              "       [ 2,  4,  6],\n",
              "       [ 8, 10, 12]])"
            ]
          },
          "metadata": {},
          "execution_count": 36
        }
      ]
    },
    {
      "cell_type": "code",
      "source": [
        "A1 = np.array([[3, 4, 5], [1, 2, 3], [4, 5, 6], [4, 5, 6]])"
      ],
      "metadata": {
        "id": "HsJRAa_mF9z4"
      },
      "execution_count": 34,
      "outputs": []
    },
    {
      "cell_type": "code",
      "source": [
        "#A * np.array([[1,2,3], [-1,-2,-3]])\n",
        "# Define the 4x3 array A1\n",
        "A1 = np.array([[1, 2, 3],\n",
        "               [4, 5, 6],\n",
        "               [7, 8, 9],\n",
        "               [10, 11, 12]])\n",
        "\n",
        "# Define another 4x3 array for element-wise multiplication\n",
        "B = np.array([[1, 2, 3],\n",
        "              [-1, -2, -3],\n",
        "              [1, 2, 3],\n",
        "              [-1, -2, -3]])\n",
        "\n",
        "# Perform element-wise multiplication\n",
        "result = A1 * B\n",
        "print(\"Element-wise multiplication result:\\n\", result)\n"
      ],
      "metadata": {
        "colab": {
          "base_uri": "https://localhost:8080/"
        },
        "id": "AJnf_6xzFuCf",
        "outputId": "cefe824b-90c5-48f8-ec39-ee2d02fe77d3"
      },
      "execution_count": 84,
      "outputs": [
        {
          "output_type": "stream",
          "name": "stdout",
          "text": [
            "Element-wise multiplication result:\n",
            " [[  1   4   9]\n",
            " [ -4 -10 -18]\n",
            " [  7  16  27]\n",
            " [-10 -22 -36]]\n"
          ]
        }
      ]
    },
    {
      "cell_type": "code",
      "source": [
        "A1"
      ],
      "metadata": {
        "colab": {
          "base_uri": "https://localhost:8080/"
        },
        "id": "ayXxV-CBGGyB",
        "outputId": "553b5172-4645-4e03-b588-7b67806e5204"
      },
      "execution_count": 39,
      "outputs": [
        {
          "output_type": "execute_result",
          "data": {
            "text/plain": [
              "array([[3, 4, 5],\n",
              "       [1, 2, 3],\n",
              "       [4, 5, 6],\n",
              "       [4, 5, 6]])"
            ]
          },
          "metadata": {},
          "execution_count": 39
        }
      ]
    },
    {
      "cell_type": "code",
      "source": [
        "#A1 * np.array([[1,2,3], [-1,-2,-3]])\n",
        "result = A1 * B\n",
        "print(\"Element-wise multiplication result:\\n\", result)"
      ],
      "metadata": {
        "colab": {
          "base_uri": "https://localhost:8080/"
        },
        "id": "r3cbImtoGCr1",
        "outputId": "3d4e2ecd-c171-4e49-9e36-9fde6eb8b3bf"
      },
      "execution_count": 88,
      "outputs": [
        {
          "output_type": "stream",
          "name": "stdout",
          "text": [
            "Element-wise multiplication result:\n",
            " [[  1   4   9]\n",
            " [ -4 -10 -18]\n",
            " [  7  16  27]\n",
            " [-10 -22 -36]]\n"
          ]
        }
      ]
    },
    {
      "cell_type": "markdown",
      "source": [
        "### **<font color='#306998'>TASK </font><font color='#ffd33b'>1.2</font>**\n",
        "\n",
        "1. Create the following NumPy array: `np.array([1, 23, 4, 31, 1, 1, 4, 23, 4, 1])`; and then list all unique (non-repeating) elements.\n",
        "1. Perform similar task with the following NumPy array `np.array([44, 1, 7, 12, 7, 44, 4, 7, 12, 1])` and then for each unique value, print out the value itself and the number of its occurences."
      ],
      "metadata": {
        "id": "AuyyjAy6i0H2"
      }
    },
    {
      "cell_type": "code",
      "source": [
        "x = np.array([1, 23, 4, 31, 1, 1, 4, 23, 4, 1])\n",
        "x"
      ],
      "metadata": {
        "id": "GL2GUFogWLu1",
        "colab": {
          "base_uri": "https://localhost:8080/"
        },
        "outputId": "39afe3aa-9144-4dfb-e247-f8769db48d39"
      },
      "execution_count": 41,
      "outputs": [
        {
          "output_type": "execute_result",
          "data": {
            "text/plain": [
              "array([ 1, 23,  4, 31,  1,  1,  4, 23,  4,  1])"
            ]
          },
          "metadata": {},
          "execution_count": 41
        }
      ]
    },
    {
      "cell_type": "code",
      "source": [
        "set(x)"
      ],
      "metadata": {
        "colab": {
          "base_uri": "https://localhost:8080/"
        },
        "id": "dqsvUdZ9OKpe",
        "outputId": "4a059064-7da4-4e54-b9ac-6cf08c1b8cb5"
      },
      "execution_count": 42,
      "outputs": [
        {
          "output_type": "execute_result",
          "data": {
            "text/plain": [
              "{1, 4, 23, 31}"
            ]
          },
          "metadata": {},
          "execution_count": 42
        }
      ]
    },
    {
      "cell_type": "code",
      "source": [
        "np.unique(x)"
      ],
      "metadata": {
        "colab": {
          "base_uri": "https://localhost:8080/"
        },
        "id": "njMezDPLOTpP",
        "outputId": "ce6c4765-b471-4fa8-bee2-af1d325031e8"
      },
      "execution_count": 43,
      "outputs": [
        {
          "output_type": "execute_result",
          "data": {
            "text/plain": [
              "array([ 1,  4, 23, 31])"
            ]
          },
          "metadata": {},
          "execution_count": 43
        }
      ]
    },
    {
      "cell_type": "code",
      "source": [
        "x_unique = np.array([])\n",
        "\n",
        "for elem in x:\n",
        "    if elem not in x_unique:\n",
        "        x_unique = np.append(x_unique, elem)\n",
        "\n",
        "x_unique\n"
      ],
      "metadata": {
        "colab": {
          "base_uri": "https://localhost:8080/"
        },
        "id": "UzHhYhOnOb5b",
        "outputId": "8aef3e3d-f579-4ee8-9e2d-704e20b16920"
      },
      "execution_count": 44,
      "outputs": [
        {
          "output_type": "execute_result",
          "data": {
            "text/plain": [
              "array([ 1., 23.,  4., 31.])"
            ]
          },
          "metadata": {},
          "execution_count": 44
        }
      ]
    },
    {
      "cell_type": "code",
      "source": [
        "x_counts = dict()\n",
        "\n",
        "for elem in x:\n",
        "    if elem not in x_counts:\n",
        "        x_counts[elem] = 1\n",
        "    else:\n",
        "        x_counts[elem] += 1\n",
        "\n",
        "    # print(x_counts)\n",
        "x_counts\n",
        "\n",
        "\n",
        "# first iteration → {1: 1}\n",
        "# second iteration → {1: 1, 23: 1}\n",
        "# third iteration → {1: 1, 4:1, 23: 1}\n",
        "# fourth iteration → {1: 1, 4:1, 23: 1, 31: 1}\n",
        "# fifth iteration → {1: 2, 4:1, 23: 1, 31: 1}\n",
        "# sixth iteration → {1: 3, 4:1, 23: 1, 31: 1}"
      ],
      "metadata": {
        "colab": {
          "base_uri": "https://localhost:8080/"
        },
        "id": "pZ5BU-HFPrQu",
        "outputId": "1707b78b-04b1-418c-f2d8-11ad1107e5b7"
      },
      "execution_count": 45,
      "outputs": [
        {
          "output_type": "execute_result",
          "data": {
            "text/plain": [
              "{1: 4, 23: 2, 4: 3, 31: 1}"
            ]
          },
          "metadata": {},
          "execution_count": 45
        }
      ]
    },
    {
      "cell_type": "code",
      "source": [
        "x_counts.keys()"
      ],
      "metadata": {
        "colab": {
          "base_uri": "https://localhost:8080/"
        },
        "id": "mlswXrdOORWe",
        "outputId": "e93feb53-15fc-43da-e5f9-766f3539eb1e"
      },
      "execution_count": 46,
      "outputs": [
        {
          "output_type": "execute_result",
          "data": {
            "text/plain": [
              "dict_keys([1, 23, 4, 31])"
            ]
          },
          "metadata": {},
          "execution_count": 46
        }
      ]
    },
    {
      "cell_type": "code",
      "source": [
        "from collections import Counter\n",
        "\n",
        "Counter(x)"
      ],
      "metadata": {
        "colab": {
          "base_uri": "https://localhost:8080/"
        },
        "id": "iTgbamfnRRWp",
        "outputId": "132b45c2-575b-4016-9261-6b629d2c977b"
      },
      "execution_count": 47,
      "outputs": [
        {
          "output_type": "execute_result",
          "data": {
            "text/plain": [
              "Counter({1: 4, 23: 2, 4: 3, 31: 1})"
            ]
          },
          "metadata": {},
          "execution_count": 47
        }
      ]
    },
    {
      "cell_type": "markdown",
      "source": [
        "*Tip for the second part of the task:*\n",
        "\n",
        "*If you want to additionally count the occurrences of each of the unique elements then you can:*\n",
        "\n",
        "*   use `np.unique()` function with `return_count=True`\n",
        "*   use `from collections import Counter`, read more https://docs.python.org/3/library/collections.html#collections.Counter\n",
        "*   use a dict with a for loop to `+1` each time an element shows up\n"
      ],
      "metadata": {
        "id": "P47epBjXXktp"
      }
    },
    {
      "cell_type": "code",
      "source": [
        "import numpy as np\n",
        "from collections import Counter\n",
        "\n",
        "# Define the array\n",
        "array = np.array([1, 2, 2, 3, 3, 3, 4, 4, 4, 4])\n",
        "\n",
        "# Use Counter to count occurrences\n",
        "counter = Counter(array)\n",
        "print(\"Counts using Counter:\", counter)\n",
        "\n",
        "# Use np.unique() with return_counts=True\n",
        "unique_elements, counts = np.unique(array, return_counts=True)\n",
        "print(\"Unique elements:\", unique_elements)\n",
        "print(\"Counts:\", counts)"
      ],
      "metadata": {
        "id": "SqZVP5t0Yi52",
        "colab": {
          "base_uri": "https://localhost:8080/"
        },
        "outputId": "ca021e06-8f48-44c7-d041-02d34c845d6b"
      },
      "execution_count": 82,
      "outputs": [
        {
          "output_type": "stream",
          "name": "stdout",
          "text": [
            "Counts using Counter: Counter({4: 4, 3: 3, 2: 2, 1: 1})\n",
            "Unique elements: [1 2 3 4]\n",
            "Counts: [1 2 3 4]\n"
          ]
        }
      ]
    },
    {
      "cell_type": "markdown",
      "source": [
        "### **<font color='#306998'>TASK </font><font color='#ffd33b'>1.3</font>**\n",
        "\n",
        "1. Create a 3x3 matrix (by using `reshape` method) containign values ranging from 2 to 10 (inclusively).\n",
        "1. Next, construct a 2x5 matrix filled with consecutive integers beginning at 35 and concluding at 44.\n",
        "  * Explore additional configurations that this matrix can have (different shapes).\n"
      ],
      "metadata": {
        "id": "eaH_HXM0i4VN"
      }
    },
    {
      "cell_type": "code",
      "source": [
        "np.arange(2, 11).shape"
      ],
      "metadata": {
        "id": "1VB04iZXZ8sy",
        "colab": {
          "base_uri": "https://localhost:8080/"
        },
        "outputId": "4a58f8ae-e56d-434c-dc49-40e7fd9e0ad9"
      },
      "execution_count": 48,
      "outputs": [
        {
          "output_type": "execute_result",
          "data": {
            "text/plain": [
              "(9,)"
            ]
          },
          "metadata": {},
          "execution_count": 48
        }
      ]
    },
    {
      "cell_type": "code",
      "source": [
        "np.arange(2, 11)"
      ],
      "metadata": {
        "colab": {
          "base_uri": "https://localhost:8080/"
        },
        "id": "2CJY3E30SNnR",
        "outputId": "0be06147-ccc2-469f-cec4-81474b2fd8d4"
      },
      "execution_count": 49,
      "outputs": [
        {
          "output_type": "execute_result",
          "data": {
            "text/plain": [
              "array([ 2,  3,  4,  5,  6,  7,  8,  9, 10])"
            ]
          },
          "metadata": {},
          "execution_count": 49
        }
      ]
    },
    {
      "cell_type": "code",
      "source": [
        "np.arange(2, 11).reshape(9, 1)"
      ],
      "metadata": {
        "colab": {
          "base_uri": "https://localhost:8080/"
        },
        "id": "ufh_o1W3SJD3",
        "outputId": "d264a633-5b25-404f-9f0e-a27b5936678f"
      },
      "execution_count": 54,
      "outputs": [
        {
          "output_type": "execute_result",
          "data": {
            "text/plain": [
              "array([[ 2],\n",
              "       [ 3],\n",
              "       [ 4],\n",
              "       [ 5],\n",
              "       [ 6],\n",
              "       [ 7],\n",
              "       [ 8],\n",
              "       [ 9],\n",
              "       [10]])"
            ]
          },
          "metadata": {},
          "execution_count": 54
        }
      ]
    },
    {
      "cell_type": "code",
      "source": [
        "np.arange(2, 11).reshape(3, 3)"
      ],
      "metadata": {
        "colab": {
          "base_uri": "https://localhost:8080/"
        },
        "id": "2PcRdGbzSSsj",
        "outputId": "94fbdb15-471e-48af-dbb0-7e9026afb8fc"
      },
      "execution_count": 55,
      "outputs": [
        {
          "output_type": "execute_result",
          "data": {
            "text/plain": [
              "array([[ 2,  3,  4],\n",
              "       [ 5,  6,  7],\n",
              "       [ 8,  9, 10]])"
            ]
          },
          "metadata": {},
          "execution_count": 55
        }
      ]
    },
    {
      "cell_type": "code",
      "source": [
        "np.arange(35, 45).reshape(2, 5)"
      ],
      "metadata": {
        "colab": {
          "base_uri": "https://localhost:8080/"
        },
        "id": "pP3tKNyRSgG3",
        "outputId": "bb58bf4e-8bee-4e10-8ec8-53afec0cfa07"
      },
      "execution_count": 56,
      "outputs": [
        {
          "output_type": "execute_result",
          "data": {
            "text/plain": [
              "array([[35, 36, 37, 38, 39],\n",
              "       [40, 41, 42, 43, 44]])"
            ]
          },
          "metadata": {},
          "execution_count": 56
        }
      ]
    },
    {
      "cell_type": "code",
      "source": [
        "x = np.arange(35, 45)\n",
        "x.shape"
      ],
      "metadata": {
        "colab": {
          "base_uri": "https://localhost:8080/"
        },
        "id": "Y3JeTKw1SjnX",
        "outputId": "02370d24-9c5b-4738-e871-096f33ec8fff"
      },
      "execution_count": 58,
      "outputs": [
        {
          "output_type": "execute_result",
          "data": {
            "text/plain": [
              "(10,)"
            ]
          },
          "metadata": {},
          "execution_count": 58
        }
      ]
    },
    {
      "cell_type": "code",
      "source": [
        "print(x.reshape(1, 10))\n",
        "print(x.reshape(2, 5))\n",
        "print(x.reshape(5, 2))\n",
        "print(x.reshape(10, 1))"
      ],
      "metadata": {
        "colab": {
          "base_uri": "https://localhost:8080/"
        },
        "id": "AQBGTpQ-SnGL",
        "outputId": "f4f48384-8c12-4d5e-e46e-3445a4f9d23d"
      },
      "execution_count": 57,
      "outputs": [
        {
          "output_type": "stream",
          "name": "stdout",
          "text": [
            "[[ 1 23  4 31  1  1  4 23  4  1]]\n",
            "[[ 1 23  4 31  1]\n",
            " [ 1  4 23  4  1]]\n",
            "[[ 1 23]\n",
            " [ 4 31]\n",
            " [ 1  1]\n",
            " [ 4 23]\n",
            " [ 4  1]]\n",
            "[[ 1]\n",
            " [23]\n",
            " [ 4]\n",
            " [31]\n",
            " [ 1]\n",
            " [ 1]\n",
            " [ 4]\n",
            " [23]\n",
            " [ 4]\n",
            " [ 1]]\n"
          ]
        }
      ]
    },
    {
      "cell_type": "markdown",
      "source": [
        "### **<font color='#306998'>TASK </font><font color='#ffd33b'>1.4</font>**\n",
        "\n",
        "1. Create an array with six random integers between 10 and 30.\n",
        "1. Create an array with eight random integers between 102 and 159.\n",
        "1. Create an array with ten random real values between 0 and 7. (optional)"
      ],
      "metadata": {
        "id": "Loa3gsQti_5q"
      }
    },
    {
      "cell_type": "code",
      "source": [
        "s = np.random.normal(size=500)"
      ],
      "metadata": {
        "id": "yztPy0CIUEHS"
      },
      "execution_count": 59,
      "outputs": []
    },
    {
      "cell_type": "code",
      "source": [
        "import matplotlib.pyplot as plt\n",
        "\n",
        "plt.hist(s)\n",
        "plt.show()"
      ],
      "metadata": {
        "colab": {
          "base_uri": "https://localhost:8080/",
          "height": 430
        },
        "id": "6M9hyVS8UCC3",
        "outputId": "ff3df854-6d21-4ca7-9862-cca42b97f19a"
      },
      "execution_count": 60,
      "outputs": [
        {
          "output_type": "display_data",
          "data": {
            "text/plain": [
              "<Figure size 640x480 with 1 Axes>"
            ],
            "image/png": "[encoded data removed]"
          },
          "metadata": {}
        }
      ]
    },
    {
      "cell_type": "code",
      "source": [
        "# a\n",
        "np.random.randint(10, 31, size=6)"
      ],
      "metadata": {
        "colab": {
          "base_uri": "https://localhost:8080/"
        },
        "id": "rNGXHNjcUo0B",
        "outputId": "5b651202-a829-49a0-841b-0e6feb3b3cf9"
      },
      "execution_count": 61,
      "outputs": [
        {
          "output_type": "execute_result",
          "data": {
            "text/plain": [
              "array([13, 10, 23, 15, 16, 14])"
            ]
          },
          "metadata": {},
          "execution_count": 61
        }
      ]
    },
    {
      "cell_type": "code",
      "source": [
        "# c\n",
        "np.random.uniform(0, 7, size=10)"
      ],
      "metadata": {
        "colab": {
          "base_uri": "https://localhost:8080/"
        },
        "id": "UWbimipuVNfm",
        "outputId": "fbbaffe2-f33a-493c-bc50-248ddcea95db"
      },
      "execution_count": 62,
      "outputs": [
        {
          "output_type": "execute_result",
          "data": {
            "text/plain": [
              "array([4.12220587, 0.73502063, 5.30849946, 5.56495435, 5.88481705,\n",
              "       4.20334359, 5.87554899, 4.95862547, 3.62402719, 1.79094851])"
            ]
          },
          "metadata": {},
          "execution_count": 62
        }
      ]
    },
    {
      "cell_type": "markdown",
      "source": [
        "### **<font color='#306998'>TASK </font><font color='#ffd33b'>1.5</font>**\n",
        "\n",
        "1. Use the following code to define 2D array, ie. matrix, and then determine its dimension and number of elements.\n",
        "1. Perform the same operations using matrices from 1.3.\n",
        "\n",
        "```\n",
        "A = np.array([[1, 2, 3, 4], [5, 6, -7, 1]])\n",
        "```"
      ],
      "metadata": {
        "id": "myGAohGTklB0"
      }
    },
    {
      "cell_type": "code",
      "source": [
        "import numpy as np\n",
        "\n",
        "# Define the 2D array (matrix)\n",
        "A = np.array([[1, 2, 3, 4], [5, 6, -7, 1]])\n",
        "\n",
        "# Determine the dimension of the matrix\n",
        "dimension_A = A.shape\n",
        "print(\"Dimension of matrix A:\", dimension_A)\n",
        "\n",
        "# Determine the number of elements in the matrix\n",
        "num_elements_A = A.size\n",
        "print(\"Number of elements in matrix A:\", num_elements_A)\n"
      ],
      "metadata": {
        "id": "B4F4qwsvdgBt",
        "colab": {
          "base_uri": "https://localhost:8080/"
        },
        "outputId": "2d8ff7b9-f209-40e7-a5c3-0dfc497e858a"
      },
      "execution_count": 63,
      "outputs": [
        {
          "output_type": "stream",
          "name": "stdout",
          "text": [
            "Dimension of matrix A: (2, 4)\n",
            "Number of elements in matrix A: 8\n"
          ]
        }
      ]
    },
    {
      "cell_type": "markdown",
      "source": [
        "### **<font color='#306998'>TASK </font><font color='#ffd33b'>1.6</font>**\n",
        "\n",
        "1/ From the array of values: `[23, 45, 112, 150, 43, 254, 95, 8]` filter for those that are greater than 100."
      ],
      "metadata": {
        "id": "JK8m2RO0jGvd"
      }
    },
    {
      "cell_type": "code",
      "source": [
        "import numpy as np\n",
        "\n",
        "# Define the array\n",
        "array = np.array([23, 45, 112, 150, 43, 254, 95, 8])\n",
        "\n",
        "# Filter the values greater than 100\n",
        "filtered_array = array[array > 100]\n",
        "\n",
        "print(\"Values greater than 100:\", filtered_array)\n"
      ],
      "metadata": {
        "id": "Vo5QzrgthchV"
      },
      "execution_count": null,
      "outputs": []
    },
    {
      "cell_type": "markdown",
      "source": [
        "2/ From the array `[10, 21, 32, 43, 54, 65, 76, 87]`, filter for those values that are odd."
      ],
      "metadata": {
        "id": "bVC-EQoId986"
      }
    },
    {
      "cell_type": "code",
      "source": [
        "import numpy as np\n",
        "\n",
        "# Define the array\n",
        "array = np.array([10, 21, 32, 43, 54, 65, 76, 87])\n",
        "\n",
        "# Filter the values that are odd\n",
        "filtered_array = array[array % 2 != 0]\n",
        "\n",
        "print(\"Odd values:\", filtered_array)\n"
      ],
      "metadata": {
        "id": "9PuAYopAd3IC",
        "colab": {
          "base_uri": "https://localhost:8080/"
        },
        "outputId": "b98195fc-2d60-4c0f-eab5-936747f327e7"
      },
      "execution_count": 64,
      "outputs": [
        {
          "output_type": "stream",
          "name": "stdout",
          "text": [
            "Odd values: [21 43 65 87]\n"
          ]
        }
      ]
    },
    {
      "cell_type": "markdown",
      "source": [
        "### **<font color='#306998'>TASK </font><font color='#ffd33b'>1.7</font>**\n",
        "\n",
        "Create the 4x4 matrix below, then:\n",
        "* display the item from the second row and the third column,\n",
        "\n",
        "$$\n",
        "A=\n",
        "\\begin{bmatrix}\n",
        "1 & 2 & 3 & 4 \\\\\n",
        "5 & 6 & 7 & 8 \\\\\n",
        "9 & 10 & 11 & 12 \\\\\n",
        "13 & 14 & 15 & 16\n",
        "\\end{bmatrix}\n",
        "$$"
      ],
      "metadata": {
        "id": "FquByg7fjLiz"
      }
    },
    {
      "cell_type": "code",
      "source": [
        "import numpy as np\n",
        "\n",
        "# Define the 4x4 matrix\n",
        "A = np.array([[1, 5, 9, 13],\n",
        "              [2, 6, 10, 14],\n",
        "              [3, 7, 11, 15],\n",
        "              [4, 8, 12, 16]])\n",
        "\n",
        "# Display the item from the second row and the third column\n",
        "item = A[1, 2]\n",
        "print(\"Item from the second row and the third column:\", item)\n"
      ],
      "metadata": {
        "id": "f8zQR07WfMwp",
        "colab": {
          "base_uri": "https://localhost:8080/"
        },
        "outputId": "acb20680-e4b0-45b7-d6a9-273f0a698e8d"
      },
      "execution_count": 65,
      "outputs": [
        {
          "output_type": "stream",
          "name": "stdout",
          "text": [
            "Item from the second row and the third column: 10\n"
          ]
        }
      ]
    },
    {
      "cell_type": "markdown",
      "source": [
        "### **<font color='#306998'>TASK </font><font color='#ffd33b'>1.8</font>**\n",
        "\n",
        "Print out all natural numbers less than 100 that are divisible by 11. Try not to use any iteration over loop."
      ],
      "metadata": {
        "id": "JzpVJoKJkwKE"
      }
    },
    {
      "cell_type": "code",
      "source": [
        "import numpy as np\n",
        "\n",
        "# Create an array of natural numbers less than 100\n",
        "numbers = np.arange(1, 100)\n",
        "\n",
        "# Filter the numbers that are divisible by 11\n",
        "divisible_by_11 = numbers[numbers % 11 == 0]\n",
        "\n",
        "print(\"Natural numbers less than 100 that are divisible by 11:\", divisible_by_11)\n"
      ],
      "metadata": {
        "id": "dQLSvtm4f2bE",
        "colab": {
          "base_uri": "https://localhost:8080/"
        },
        "outputId": "a53786b8-96c6-4a0f-9820-6d0c3a0fecd8"
      },
      "execution_count": 66,
      "outputs": [
        {
          "output_type": "stream",
          "name": "stdout",
          "text": [
            "Natural numbers less than 100 that are divisible by 11: [11 22 33 44 55 66 77 88 99]\n"
          ]
        }
      ]
    },
    {
      "cell_type": "markdown",
      "source": [
        "### **<font color='#306998'>TASK </font><font color='#ffd33b'>1.9</font>**\n",
        "\n",
        "Create a vector consisting of consecutive natural numbers: `6, 7, 8, ..., 35`. Change its shape in several ways."
      ],
      "metadata": {
        "id": "haHtEV39xWnC"
      }
    },
    {
      "cell_type": "code",
      "source": [
        "import numpy as np\n",
        "\n",
        "# Create the vector with consecutive natural numbers from 6 to 35\n",
        "vector = np.arange(6, 36)\n",
        "print(\"Original vector:\", vector)\n",
        "# Reshape to a 3x10 matrix\n",
        "matrix_3x10 = vector.reshape(3, 10)\n",
        "print(\"Reshaped to 3x10 matrix:\\n\", matrix_3x10)\n",
        "# Reshape to a 10x3 matrix\n",
        "matrix_10x3 = vector.reshape(10, 3)\n",
        "print(\"Reshaped to 10x3 matrix:\\n\", matrix_10x3)\n",
        "# Reshape to a 6x5 matrix\n",
        "matrix_6x5 = vector.reshape(6, 5)\n",
        "print(\"Reshaped to 6x5 matrix:\\n\", matrix_6x5)\n",
        "# Reshape to a 5x6 matrix\n",
        "matrix_5x6 = vector.reshape(5, 6)\n",
        "print(\"Reshaped to 5x6 matrix:\\n\", matrix_5x6)\n",
        "# Reshape to a 2x15 matrix\n",
        "matrix_2x15 = vector.reshape(2, 15)\n",
        "print(\"Reshaped to 2x15 matrix:\\n\", matrix_2x15)\n",
        "# Reshape to a 15x2 matrix\n",
        "matrix_15x2 = vector.reshape(15, 2)\n",
        "print(\"Reshaped to 15x2 matrix:\\n\", matrix_15x2)\n",
        "\n"
      ],
      "metadata": {
        "id": "v6S_0X0Hf4PD",
        "colab": {
          "base_uri": "https://localhost:8080/"
        },
        "outputId": "df336991-0055-4a2f-f60d-038fcaf8a6b6"
      },
      "execution_count": 76,
      "outputs": [
        {
          "output_type": "stream",
          "name": "stdout",
          "text": [
            "Original vector: [ 6  7  8  9 10 11 12 13 14 15 16 17 18 19 20 21 22 23 24 25 26 27 28 29\n",
            " 30 31 32 33 34 35]\n",
            "Reshaped to 3x10 matrix:\n",
            " [[ 6  7  8  9 10 11 12 13 14 15]\n",
            " [16 17 18 19 20 21 22 23 24 25]\n",
            " [26 27 28 29 30 31 32 33 34 35]]\n",
            "Reshaped to 10x3 matrix:\n",
            " [[ 6  7  8]\n",
            " [ 9 10 11]\n",
            " [12 13 14]\n",
            " [15 16 17]\n",
            " [18 19 20]\n",
            " [21 22 23]\n",
            " [24 25 26]\n",
            " [27 28 29]\n",
            " [30 31 32]\n",
            " [33 34 35]]\n",
            "Reshaped to 6x5 matrix:\n",
            " [[ 6  7  8  9 10]\n",
            " [11 12 13 14 15]\n",
            " [16 17 18 19 20]\n",
            " [21 22 23 24 25]\n",
            " [26 27 28 29 30]\n",
            " [31 32 33 34 35]]\n",
            "Reshaped to 5x6 matrix:\n",
            " [[ 6  7  8  9 10 11]\n",
            " [12 13 14 15 16 17]\n",
            " [18 19 20 21 22 23]\n",
            " [24 25 26 27 28 29]\n",
            " [30 31 32 33 34 35]]\n",
            "Reshaped to 2x15 matrix:\n",
            " [[ 6  7  8  9 10 11 12 13 14 15 16 17 18 19 20]\n",
            " [21 22 23 24 25 26 27 28 29 30 31 32 33 34 35]]\n",
            "Reshaped to 15x2 matrix:\n",
            " [[ 6  7]\n",
            " [ 8  9]\n",
            " [10 11]\n",
            " [12 13]\n",
            " [14 15]\n",
            " [16 17]\n",
            " [18 19]\n",
            " [20 21]\n",
            " [22 23]\n",
            " [24 25]\n",
            " [26 27]\n",
            " [28 29]\n",
            " [30 31]\n",
            " [32 33]\n",
            " [34 35]]\n"
          ]
        }
      ]
    },
    {
      "cell_type": "markdown",
      "source": [
        "### **<font color='#306998'>TASK </font><font color='#ffd33b'>1.10</font>**\n",
        "\n",
        "Using `np.reshape()` method, create a `3x3` matrix with all integers from 51 to 59."
      ],
      "metadata": {
        "id": "OcPbqfhY5JOH"
      }
    },
    {
      "cell_type": "code",
      "source": [
        "import numpy as np\n",
        "\n",
        "# Create a vector with integers from 51 to 59\n",
        "vector = np.arange(51, 60)\n",
        "\n",
        "# Reshape the vector into a 3x3 matrix\n",
        "matrix = vector.reshape(3, 3)\n",
        "\n",
        "print(\"3x3 matrix with integers from 51 to 59:\\n\", matrix)\n"
      ],
      "metadata": {
        "id": "VWQROsb4gybL",
        "colab": {
          "base_uri": "https://localhost:8080/"
        },
        "outputId": "3d406970-75ff-44dd-c521-25226cc6e7d5"
      },
      "execution_count": 77,
      "outputs": [
        {
          "output_type": "stream",
          "name": "stdout",
          "text": [
            "3x3 matrix with integers from 51 to 59:\n",
            " [[51 52 53]\n",
            " [54 55 56]\n",
            " [57 58 59]]\n"
          ]
        }
      ]
    },
    {
      "cell_type": "markdown",
      "source": [
        "<img src=\"https://drive.google.com/uc?export=view&id=141XOz6N4nk8Ru1sAl7vOsAToCLrSFCAX\" alt=\"SDA logo\" width=\"150\" align='right'/>\n",
        "<br>\n",
        "\n",
        "## Appendix: random numbers generators\n",
        "\n",
        "1. Randomly generated number(s) from normal (Gauss) distribution.\n",
        "```python\n",
        "np.random.normal()\n",
        "np.random.normal(size=6)\n",
        "```\n",
        "1. Randomly selected numbers from the uniform system.\n",
        "```python\n",
        "np.random.uniform(size=6)\n",
        "```\n",
        "1. Randomly selected number from a specific range.\n",
        "```python\n",
        "np.random.randint(3, 30, size=6)\n",
        "```\n",
        "1. Randomly selected floating-point number\n",
        "```python\n",
        "np.random.random()\n",
        "```"
      ],
      "metadata": {
        "id": "miJxoOkZ7c5y"
      }
    },
    {
      "cell_type": "code",
      "source": [
        "np.random.normal()\n",
        "np.random.normal(size=6)\n",
        "np.random.uniform(size=6)\n",
        "np.random.randint(3, 30, size=6)\n",
        "np.random.random()"
      ],
      "metadata": {
        "id": "RJGSEmjo5DC3",
        "colab": {
          "base_uri": "https://localhost:8080/"
        },
        "outputId": "e76b5ea7-1ebf-4507-903c-86877539ba22"
      },
      "execution_count": 79,
      "outputs": [
        {
          "output_type": "execute_result",
          "data": {
            "text/plain": [
              "0.8053244795893151"
            ]
          },
          "metadata": {},
          "execution_count": 79
        }
      ]
    }
  ]
}